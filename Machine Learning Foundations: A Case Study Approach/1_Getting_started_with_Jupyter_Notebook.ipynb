{
  "nbformat": 4,
  "nbformat_minor": 0,
  "metadata": {
    "kernelspec": {
      "display_name": "Python 3",
      "language": "python",
      "name": "python3"
    },
    "language_info": {
      "codemirror_mode": {
        "name": "ipython",
        "version": 3
      },
      "file_extension": ".py",
      "mimetype": "text/x-python",
      "name": "python",
      "nbconvert_exporter": "python",
      "pygments_lexer": "ipython3",
      "version": "3.5.2"
    },
    "colab": {
      "name": "1 Getting started with Jupyter Notebook.ipynb",
      "provenance": [],
      "collapsed_sections": []
    }
  },
  "cells": [
    {
      "cell_type": "markdown",
      "metadata": {
        "id": "1VH5gRpd8dRQ"
      },
      "source": [
        "# Installing Python and Turi Create"
      ]
    },
    {
      "cell_type": "markdown",
      "metadata": {
        "id": "-Gl7o5UG8dRY"
      },
      "source": [
        "Please follow the installation instructions [here](https://www.coursera.org/learn/ml-foundations/supplement/5HQGl/reading-getting-started-with-python-jupyter-notebook-turi-create) before getting started:\n",
        "\n",
        "\n",
        "## So far, we have\n",
        "* Installed Python\n",
        "* Started Jupyter Notebook"
      ]
    },
    {
      "cell_type": "markdown",
      "metadata": {
        "id": "rEToxinG8dRb"
      },
      "source": [
        "# Getting started with Python"
      ]
    },
    {
      "cell_type": "code",
      "metadata": {
        "id": "W4pyJ14q8dRe",
        "colab": {
          "base_uri": "https://localhost:8080/"
        },
        "outputId": "c499720f-12c2-447d-a0db-7bc65433c8fe"
      },
      "source": [
        "print('Hello World!')"
      ],
      "execution_count": 1,
      "outputs": [
        {
          "output_type": "stream",
          "text": [
            "Hello World!\n"
          ],
          "name": "stdout"
        }
      ]
    },
    {
      "cell_type": "markdown",
      "metadata": {
        "id": "30Vnftxb8dR0"
      },
      "source": [
        "## Create some variables in Python"
      ]
    },
    {
      "cell_type": "code",
      "metadata": {
        "id": "aI0sWrXJ8dR4"
      },
      "source": [
        "i = 4  #int"
      ],
      "execution_count": 2,
      "outputs": []
    },
    {
      "cell_type": "code",
      "metadata": {
        "id": "_rc7D35H8dSJ",
        "colab": {
          "base_uri": "https://localhost:8080/"
        },
        "outputId": "0aaafb68-774f-4e95-9627-1eab2b2d97b2"
      },
      "source": [
        "type(i)"
      ],
      "execution_count": 3,
      "outputs": [
        {
          "output_type": "execute_result",
          "data": {
            "text/plain": [
              "int"
            ]
          },
          "metadata": {
            "tags": []
          },
          "execution_count": 3
        }
      ]
    },
    {
      "cell_type": "code",
      "metadata": {
        "id": "h8Gh2wHo8dSY"
      },
      "source": [
        "f = 4.1  #float"
      ],
      "execution_count": 4,
      "outputs": []
    },
    {
      "cell_type": "code",
      "metadata": {
        "id": "uBsM1J5L8dSk",
        "colab": {
          "base_uri": "https://localhost:8080/"
        },
        "outputId": "0e2ce956-2aed-4dab-d996-faf2cf1487e5"
      },
      "source": [
        "type(f)"
      ],
      "execution_count": 5,
      "outputs": [
        {
          "output_type": "execute_result",
          "data": {
            "text/plain": [
              "float"
            ]
          },
          "metadata": {
            "tags": []
          },
          "execution_count": 5
        }
      ]
    },
    {
      "cell_type": "code",
      "metadata": {
        "id": "Tx-KlKGt8dSz"
      },
      "source": [
        "b = True  #boolean variable"
      ],
      "execution_count": 6,
      "outputs": []
    },
    {
      "cell_type": "code",
      "metadata": {
        "id": "F1wmYsb28dTB"
      },
      "source": [
        "s = \"This is a string!\""
      ],
      "execution_count": 7,
      "outputs": []
    },
    {
      "cell_type": "code",
      "metadata": {
        "id": "X1n91P7V8dTL",
        "colab": {
          "base_uri": "https://localhost:8080/"
        },
        "outputId": "6b28b632-d317-470b-c824-8b0ae0391217"
      },
      "source": [
        "print(s)"
      ],
      "execution_count": 8,
      "outputs": [
        {
          "output_type": "stream",
          "text": [
            "This is a string!\n"
          ],
          "name": "stdout"
        }
      ]
    },
    {
      "cell_type": "markdown",
      "metadata": {
        "id": "U3wen7pW8dTT"
      },
      "source": [
        "## Advanced python types"
      ]
    },
    {
      "cell_type": "code",
      "metadata": {
        "id": "MvlF414I8dTV"
      },
      "source": [
        "l = [3,1,2]  #list"
      ],
      "execution_count": 9,
      "outputs": []
    },
    {
      "cell_type": "code",
      "metadata": {
        "id": "GqA0WteR8dTc",
        "colab": {
          "base_uri": "https://localhost:8080/"
        },
        "outputId": "8d28b999-6901-43a0-dc6a-8157dd007bae"
      },
      "source": [
        "print(l)"
      ],
      "execution_count": 10,
      "outputs": [
        {
          "output_type": "stream",
          "text": [
            "[3, 1, 2]\n"
          ],
          "name": "stdout"
        }
      ]
    },
    {
      "cell_type": "code",
      "metadata": {
        "id": "iCvOxT3O8dTi"
      },
      "source": [
        "d = {'foo':1, 'bar':2.3, 's':'my first dictionary'}  #dictionary"
      ],
      "execution_count": 11,
      "outputs": []
    },
    {
      "cell_type": "code",
      "metadata": {
        "id": "RDU7TxH88dTp",
        "colab": {
          "base_uri": "https://localhost:8080/"
        },
        "outputId": "69288a45-3ac6-412f-ff21-220ec34d0d2a"
      },
      "source": [
        "print(d)"
      ],
      "execution_count": 12,
      "outputs": [
        {
          "output_type": "stream",
          "text": [
            "{'foo': 1, 'bar': 2.3, 's': 'my first dictionary'}\n"
          ],
          "name": "stdout"
        }
      ]
    },
    {
      "cell_type": "code",
      "metadata": {
        "id": "Wmsub9Tu8dTt",
        "colab": {
          "base_uri": "https://localhost:8080/"
        },
        "outputId": "029154b9-d5c4-415a-a17d-6f51bf3499d1"
      },
      "source": [
        "print(d['foo'])  #element of a dictionary"
      ],
      "execution_count": 13,
      "outputs": [
        {
          "output_type": "stream",
          "text": [
            "1\n"
          ],
          "name": "stdout"
        }
      ]
    },
    {
      "cell_type": "code",
      "metadata": {
        "id": "7YsS-MzC8dTz"
      },
      "source": [
        "n = None  #Python's null type"
      ],
      "execution_count": 14,
      "outputs": []
    },
    {
      "cell_type": "code",
      "metadata": {
        "id": "AkceLjlF8dT4",
        "colab": {
          "base_uri": "https://localhost:8080/"
        },
        "outputId": "c2a1dc7e-89f0-4c9c-dbf4-c4b356eb81b2"
      },
      "source": [
        "type(n)"
      ],
      "execution_count": 15,
      "outputs": [
        {
          "output_type": "execute_result",
          "data": {
            "text/plain": [
              "NoneType"
            ]
          },
          "metadata": {
            "tags": []
          },
          "execution_count": 15
        }
      ]
    },
    {
      "cell_type": "markdown",
      "metadata": {
        "id": "Iz8PfWmb8dT9"
      },
      "source": [
        "## Advanced printing"
      ]
    },
    {
      "cell_type": "code",
      "metadata": {
        "id": "kTBgcnO28dT-",
        "colab": {
          "base_uri": "https://localhost:8080/"
        },
        "outputId": "9b1be675-4a85-432e-dfab-c90b7665536e"
      },
      "source": [
        "print(\"Our float value is %s. Our int value is %s.\" % (f,i))  #Python is pretty good with strings"
      ],
      "execution_count": 16,
      "outputs": [
        {
          "output_type": "stream",
          "text": [
            "Our float value is 4.1. Our int value is 4.\n"
          ],
          "name": "stdout"
        }
      ]
    },
    {
      "cell_type": "markdown",
      "metadata": {
        "id": "To04_ND18dUF"
      },
      "source": [
        "## Conditional statements in python"
      ]
    },
    {
      "cell_type": "code",
      "metadata": {
        "id": "RMiLvHXA8dUG",
        "colab": {
          "base_uri": "https://localhost:8080/"
        },
        "outputId": "fcb62158-7677-4c49-f000-d7f7e1ede883"
      },
      "source": [
        "if i == 1 and f > 4:\n",
        "    print(\"The value of i is 1 and f is greater than 4.\")\n",
        "elif i > 4 or f > 4:\n",
        "    print(\"i or f are both greater than 4.\")\n",
        "else:\n",
        "    print(\"both i and f are less than or equal to 4\")\n"
      ],
      "execution_count": 17,
      "outputs": [
        {
          "output_type": "stream",
          "text": [
            "i or f are both greater than 4.\n"
          ],
          "name": "stdout"
        }
      ]
    },
    {
      "cell_type": "markdown",
      "metadata": {
        "id": "k_hfaD6t8dUL"
      },
      "source": [
        "## Conditional loops"
      ]
    },
    {
      "cell_type": "code",
      "metadata": {
        "id": "mqDsB6US8dUM",
        "colab": {
          "base_uri": "https://localhost:8080/"
        },
        "outputId": "095b7ab2-4151-44c2-bdc7-f09c06839ff8"
      },
      "source": [
        "print(l)"
      ],
      "execution_count": 18,
      "outputs": [
        {
          "output_type": "stream",
          "text": [
            "[3, 1, 2]\n"
          ],
          "name": "stdout"
        }
      ]
    },
    {
      "cell_type": "code",
      "metadata": {
        "id": "m6V7CmCM8dUT",
        "colab": {
          "base_uri": "https://localhost:8080/"
        },
        "outputId": "e6dbcf6b-c171-4644-b13e-4df34e00312d"
      },
      "source": [
        "for e in l:\n",
        "    print(e)"
      ],
      "execution_count": 19,
      "outputs": [
        {
          "output_type": "stream",
          "text": [
            "3\n",
            "1\n",
            "2\n"
          ],
          "name": "stdout"
        }
      ]
    },
    {
      "cell_type": "markdown",
      "metadata": {
        "id": "K-Hb0sXT8dUW"
      },
      "source": [
        "Note that in Python, we don't use {} or other markers to indicate the part of the loop that gets iterated.  Instead, we just indent and align each of the iterated statements with spaces or tabs. (You can use as many as you want, as long as the lines are aligned.)"
      ]
    },
    {
      "cell_type": "code",
      "metadata": {
        "id": "h17wb9de8dUW",
        "colab": {
          "base_uri": "https://localhost:8080/"
        },
        "outputId": "82452394-b711-4e2e-a1ae-13266f376fa6"
      },
      "source": [
        "counter = 6\n",
        "while counter < 10:\n",
        "    print(counter)\n",
        "    counter += 1"
      ],
      "execution_count": 20,
      "outputs": [
        {
          "output_type": "stream",
          "text": [
            "6\n",
            "7\n",
            "8\n",
            "9\n"
          ],
          "name": "stdout"
        }
      ]
    },
    {
      "cell_type": "markdown",
      "metadata": {
        "collapsed": true,
        "id": "F6V0PUDg8dUa"
      },
      "source": [
        "# Creating functions in Python\n",
        "\n",
        "Again, we don't use {}, but just indent the lines that are part of the function."
      ]
    },
    {
      "cell_type": "code",
      "metadata": {
        "id": "HYLgV9J48dUb"
      },
      "source": [
        "def add2(x):\n",
        "    y = x + 2\n",
        "    return y"
      ],
      "execution_count": 21,
      "outputs": []
    },
    {
      "cell_type": "code",
      "metadata": {
        "id": "S2qwXaB18dUd"
      },
      "source": [
        "i = 5"
      ],
      "execution_count": 22,
      "outputs": []
    },
    {
      "cell_type": "code",
      "metadata": {
        "id": "oThOPWxR8dUh",
        "colab": {
          "base_uri": "https://localhost:8080/"
        },
        "outputId": "d0df30f3-f3fb-4098-c85d-abb663f41ee2"
      },
      "source": [
        "add2(i)"
      ],
      "execution_count": 23,
      "outputs": [
        {
          "output_type": "execute_result",
          "data": {
            "text/plain": [
              "7"
            ]
          },
          "metadata": {
            "tags": []
          },
          "execution_count": 23
        }
      ]
    },
    {
      "cell_type": "markdown",
      "metadata": {
        "id": "WYz_4VYk8dUk"
      },
      "source": [
        "We can also define simple functions with lambdas:"
      ]
    },
    {
      "cell_type": "code",
      "metadata": {
        "id": "u0iyNWWk8dUm"
      },
      "source": [
        "square = lambda x: x*x"
      ],
      "execution_count": 24,
      "outputs": []
    },
    {
      "cell_type": "code",
      "metadata": {
        "id": "DuOp-wYG8dUp"
      },
      "source": [
        ""
      ],
      "execution_count": 24,
      "outputs": []
    }
  ]
}